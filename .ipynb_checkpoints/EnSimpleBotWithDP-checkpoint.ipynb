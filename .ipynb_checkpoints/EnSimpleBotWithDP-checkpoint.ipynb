{
 "cells": [
  {
   "cell_type": "markdown",
   "metadata": {
    "colab_type": "text",
    "id": "view-in-github"
   },
   "source": [
    "<a href=\"https://colab.research.google.com/github/EvgeniaKomleva/DeepPavlovBot/blob/master/EnSimpleBotWithDP.ipynb\" target=\"_parent\"><img src=\"https://colab.research.google.com/assets/colab-badge.svg\" alt=\"Open In Colab\"/></a>"
   ]
  },
  {
   "cell_type": "code",
   "execution_count": 1,
   "metadata": {
    "colab": {
     "base_uri": "https://localhost:8080/",
     "height": 1000
    },
    "colab_type": "code",
    "id": "JeSE4a-SgRjo",
    "outputId": "5b0f4d01-d650-4bc7-e8ec-2416c9ea2437"
   },
   "outputs": [
    {
     "name": "stdout",
     "output_type": "stream",
     "text": [
      "Collecting deeppavlov\n",
      "  Using cached deeppavlov-0.11.0-py3-none-any.whl (847 kB)\n",
      "Collecting aio-pika==6.4.1\n",
      "  Using cached aio_pika-6.4.1-py3-none-any.whl (40 kB)\n",
      "Collecting ruamel.yaml==0.15.100\n",
      "  Using cached ruamel.yaml-0.15.100-cp37-cp37m-win_amd64.whl (225 kB)\n",
      "Processing c:\\users\\komle\\appdata\\local\\pip\\cache\\wheels\\7f\\7c\\54\\8eddf2369ef1b9190e2ee6dc2b40df54b6c65529a38790fdd4\\pytelegrambotapi-3.6.7-py3-none-any.whl\n",
      "Requirement already satisfied: h5py==2.10.0 in c:\\programdata\\anaconda3\\lib\\site-packages (from deeppavlov) (2.10.0)\n",
      "Requirement already satisfied: click==7.1.2 in c:\\programdata\\anaconda3\\lib\\site-packages (from deeppavlov) (7.1.2)\n",
      "Processing c:\\users\\komle\\appdata\\local\\pip\\cache\\wheels\\c9\\87\\45\\bfdacf6c3b8233b6e8d519edcbd1cf297ad5ff5f0bf84bb9c1\\overrides-2.7.0-py3-none-any.whl\n",
      "Processing c:\\users\\komle\\appdata\\local\\pip\\cache\\wheels\\48\\8b\\7f\\473521e0c731c6566d631b281f323842bbda9bd819eb9a3ead\\nltk-3.4.5-py3-none-any.whl\n",
      "Collecting tqdm==4.41.1\n",
      "  Using cached tqdm-4.41.1-py2.py3-none-any.whl (56 kB)\n",
      "Collecting pandas==0.25.3\n",
      "  Using cached pandas-0.25.3-cp37-cp37m-win_amd64.whl (9.2 MB)\n",
      "Collecting pydantic==1.3\n",
      "  Using cached pydantic-1.3-py36.py37.py38-none-any.whl (85 kB)\n",
      "Requirement already satisfied: pymorphy2==0.8 in c:\\programdata\\anaconda3\\lib\\site-packages (from deeppavlov) (0.8)\n",
      "Collecting numpy==1.18.0\n",
      "  Using cached numpy-1.18.0-cp37-cp37m-win_amd64.whl (12.8 MB)\n",
      "Collecting requests==2.22.0\n",
      "  Using cached requests-2.22.0-py2.py3-none-any.whl (57 kB)\n",
      "Processing c:\\users\\komle\\appdata\\local\\pip\\cache\\wheels\\d1\\ff\\0e\\e00ff1e22100702ac8b24e709551ae0fb29db9ffc843510a64\\sacremoses-0.0.35-py3-none-any.whl\n",
      "Collecting pymorphy2-dicts-ru\n",
      "  Using cached pymorphy2_dicts_ru-2.4.404381.4453942-py2.py3-none-any.whl (8.0 MB)\n",
      "Collecting uvicorn==0.11.1\n",
      "  Using cached uvicorn-0.11.1-py3-none-any.whl (42 kB)\n",
      "Collecting rusenttokenize==0.0.5\n",
      "  Using cached rusenttokenize-0.0.5-py3-none-any.whl (10 kB)\n",
      "Collecting pytz==2019.1\n",
      "  Using cached pytz-2019.1-py2.py3-none-any.whl (510 kB)\n",
      "Requirement already satisfied: pyopenssl==19.1.0 in c:\\programdata\\anaconda3\\lib\\site-packages (from deeppavlov) (19.1.0)\n",
      "Collecting Cython==0.29.14\n",
      "  Using cached Cython-0.29.14-cp37-cp37m-win_amd64.whl (1.7 MB)\n",
      "Collecting fastapi==0.47.1\n",
      "  Using cached fastapi-0.47.1-py3-none-any.whl (43 kB)\n",
      "Requirement already satisfied: scipy==1.4.1 in c:\\users\\komle\\appdata\\roaming\\python\\python37\\site-packages (from deeppavlov) (1.4.1)\n",
      "Collecting scikit-learn==0.21.2\n",
      "  Using cached scikit_learn-0.21.2-cp37-cp37m-win_amd64.whl (5.9 MB)\n",
      "Collecting aiormq<4,>=3.2.0\n",
      "  Downloading aiormq-3.2.3-py3-none-any.whl (27 kB)\n",
      "Collecting yarl\n",
      "  Using cached yarl-1.5.0-cp37-cp37m-win_amd64.whl (128 kB)\n",
      "Requirement already satisfied: six in c:\\programdata\\anaconda3\\lib\\site-packages (from pytelegrambotapi==3.6.7->deeppavlov) (1.15.0)\n",
      "Requirement already satisfied: python-dateutil>=2.6.1 in c:\\programdata\\anaconda3\\lib\\site-packages (from pandas==0.25.3->deeppavlov) (2.8.1)\n",
      "Requirement already satisfied: pymorphy2-dicts<3.0,>=2.4 in c:\\programdata\\anaconda3\\lib\\site-packages (from pymorphy2==0.8->deeppavlov) (2.4.393442.3710985)\n",
      "Requirement already satisfied: dawg-python>=0.7 in c:\\programdata\\anaconda3\\lib\\site-packages (from pymorphy2==0.8->deeppavlov) (0.7.2)\n",
      "Requirement already satisfied: docopt>=0.6 in c:\\programdata\\anaconda3\\lib\\site-packages (from pymorphy2==0.8->deeppavlov) (0.6.2)\n",
      "Requirement already satisfied: certifi>=2017.4.17 in c:\\programdata\\anaconda3\\lib\\site-packages (from requests==2.22.0->deeppavlov) (2020.6.20)\n",
      "Requirement already satisfied: urllib3!=1.25.0,!=1.25.1,<1.26,>=1.21.1 in c:\\programdata\\anaconda3\\lib\\site-packages (from requests==2.22.0->deeppavlov) (1.25.9)\n",
      "Requirement already satisfied: chardet<3.1.0,>=3.0.2 in c:\\programdata\\anaconda3\\lib\\site-packages (from requests==2.22.0->deeppavlov) (3.0.4)\n",
      "Collecting idna<2.9,>=2.5\n",
      "  Using cached idna-2.8-py2.py3-none-any.whl (58 kB)\n",
      "Requirement already satisfied: joblib in c:\\programdata\\anaconda3\\lib\\site-packages (from sacremoses==0.0.35->deeppavlov) (0.16.0)\n",
      "Collecting websockets==8.*\n",
      "  Using cached websockets-8.1-cp37-cp37m-win_amd64.whl (66 kB)\n",
      "Collecting h11<0.10,>=0.8\n",
      "  Using cached h11-0.9.0-py2.py3-none-any.whl (53 kB)\n",
      "Requirement already satisfied: cryptography>=2.8 in c:\\programdata\\anaconda3\\lib\\site-packages (from pyopenssl==19.1.0->deeppavlov) (2.9.2)\n",
      "Processing c:\\users\\komle\\appdata\\local\\pip\\cache\\wheels\\e8\\78\\be\\f57ed5aed7cd222abdb24e3186b5c9f1074184fcc0a295102b\\starlette-0.12.9-py3-none-any.whl\n",
      "Collecting pamqp==2.3.0\n",
      "  Using cached pamqp-2.3.0-py2.py3-none-any.whl (28 kB)\n",
      "Requirement already satisfied: typing-extensions>=3.7.4 in c:\\programdata\\anaconda3\\lib\\site-packages (from yarl->aio-pika==6.4.1->deeppavlov) (3.7.4.2)\n",
      "Collecting multidict>=4.0\n",
      "  Using cached multidict-4.7.6-cp37-cp37m-win_amd64.whl (48 kB)\n",
      "Requirement already satisfied: cffi!=1.11.3,>=1.8 in c:\\programdata\\anaconda3\\lib\\site-packages (from cryptography>=2.8->pyopenssl==19.1.0->deeppavlov) (1.14.0)\n",
      "Requirement already satisfied: pycparser in c:\\programdata\\anaconda3\\lib\\site-packages (from cffi!=1.11.3,>=1.8->cryptography>=2.8->pyopenssl==19.1.0->deeppavlov) (2.20)\n",
      "Installing collected packages: multidict, idna, yarl, pamqp, aiormq, aio-pika, ruamel.yaml, requests, pytelegrambotapi, overrides, nltk, tqdm, numpy, pytz, pandas, pydantic, sacremoses, pymorphy2-dicts-ru, websockets, h11, uvicorn, rusenttokenize, Cython, starlette, fastapi, scikit-learn, deeppavlov\n",
      "  Attempting uninstall: idna\n",
      "    Found existing installation: idna 2.10\n",
      "    Uninstalling idna-2.10:\n"
     ]
    },
    {
     "name": "stderr",
     "output_type": "stream",
     "text": [
      "ERROR: fastai 1.0.34 requires torchvision-nightly, which is not installed.\n",
      "ERROR: google-api-core 1.20.0 has requirement google-auth<2.0dev,>=1.14.0, but you'll have google-auth 1.13.1 which is incompatible.\n",
      "ERROR: fastai 1.0.34 has requirement cymem==2.0.2, but you'll have cymem 2.0.3 which is incompatible.\n",
      "ERROR: fastai 1.0.34 has requirement spacy==2.0.16, but you'll have spacy 2.3.2 which is incompatible.\n",
      "ERROR: fastai 1.0.34 has requirement thinc==6.12.0, but you'll have thinc 7.4.1 which is incompatible.\n",
      "ERROR: Could not install packages due to an EnvironmentError: [WinError 5] Отказано в доступе: 'c:\\\\programdata\\\\anaconda3\\\\lib\\\\site-packages\\\\idna-2.10.dist-info\\\\installer'\n",
      "Consider using the `--user` option or check the permissions.\n",
      "\n",
      "C:\\ProgramData\\Anaconda3\\python.exe: No module named deeppavlov\n"
     ]
    }
   ],
   "source": [
    "!pip install deeppavlov\n",
    "!python -m deeppavlov install gobot_dstc2_minimal"
   ]
  },
  {
   "cell_type": "markdown",
   "metadata": {
    "colab_type": "text",
    "id": "fbv3rMFngRlH"
   },
   "source": [
    "## 0. Подготовка данных"
   ]
  },
  {
   "cell_type": "markdown",
   "metadata": {
    "colab_type": "text",
    "id": "hTpb4EHbgRla"
   },
   "source": [
    "Тут нужно создать папку assistant_data и поместить в нее файлы (четыре)\n",
    "После этого можно запускать дальше\n",
    "Считываем данные:"
   ]
  },
  {
   "cell_type": "code",
   "execution_count": 2,
   "metadata": {
    "colab": {},
    "colab_type": "code",
    "id": "B5oak1V5gRlq"
   },
   "outputs": [
    {
     "ename": "ModuleNotFoundError",
     "evalue": "No module named 'deeppavlov'",
     "output_type": "error",
     "traceback": [
      "\u001b[1;31m---------------------------------------------------------------------------\u001b[0m",
      "\u001b[1;31mModuleNotFoundError\u001b[0m                       Traceback (most recent call last)",
      "\u001b[1;32m<ipython-input-2-68afbfb175a2>\u001b[0m in \u001b[0;36m<module>\u001b[1;34m\u001b[0m\n\u001b[1;32m----> 1\u001b[1;33m \u001b[1;32mfrom\u001b[0m \u001b[0mdeeppavlov\u001b[0m\u001b[1;33m.\u001b[0m\u001b[0mdataset_readers\u001b[0m\u001b[1;33m.\u001b[0m\u001b[0mdstc2_reader\u001b[0m \u001b[1;32mimport\u001b[0m \u001b[0mSimpleDSTC2DatasetReader\u001b[0m\u001b[1;33m\u001b[0m\u001b[1;33m\u001b[0m\u001b[0m\n\u001b[0m\u001b[0;32m      2\u001b[0m \u001b[1;33m\u001b[0m\u001b[0m\n\u001b[0;32m      3\u001b[0m \u001b[1;33m\u001b[0m\u001b[0m\n\u001b[0;32m      4\u001b[0m \u001b[1;32mclass\u001b[0m \u001b[0mAssistantDatasetReader\u001b[0m\u001b[1;33m(\u001b[0m\u001b[0mSimpleDSTC2DatasetReader\u001b[0m\u001b[1;33m)\u001b[0m\u001b[1;33m:\u001b[0m\u001b[1;33m\u001b[0m\u001b[1;33m\u001b[0m\u001b[0m\n\u001b[0;32m      5\u001b[0m \u001b[1;33m\u001b[0m\u001b[0m\n",
      "\u001b[1;31mModuleNotFoundError\u001b[0m: No module named 'deeppavlov'"
     ]
    }
   ],
   "source": [
    "from deeppavlov.dataset_readers.dstc2_reader import SimpleDSTC2DatasetReader\n",
    "\n",
    "\n",
    "class AssistantDatasetReader(SimpleDSTC2DatasetReader):\n",
    "    \n",
    "    \n",
    "    @staticmethod\n",
    "    def _data_fname(datatype):\n",
    "        assert datatype in ('val', 'trn', 'tst'), \"wrong datatype name\"\n",
    "        return f\"assistant-{datatype}.json\""
   ]
  },
  {
   "cell_type": "code",
   "execution_count": null,
   "metadata": {
    "colab": {
     "base_uri": "https://localhost:8080/",
     "height": 138
    },
    "colab_type": "code",
    "id": "I-GPAAWjgRmj",
    "outputId": "15fe999a-96bd-4934-d17d-abb0e515c77f"
   },
   "outputs": [],
   "source": [
    "data = AssistantDatasetReader().read('assistant_data')"
   ]
  },
  {
   "cell_type": "code",
   "execution_count": null,
   "metadata": {
    "colab": {
     "base_uri": "https://localhost:8080/",
     "height": 50
    },
    "colab_type": "code",
    "id": "T_q_AMkCgRnO",
    "outputId": "9c6cec8b-8ec1-485b-ae6c-9239090ea22e"
   },
   "outputs": [
    {
     "name": "stdout",
     "output_type": "stream",
     "text": [
      "assistant-templates.txt  assistant-tst.json\n",
      "assistant-trn.json\t assistant-val.json\n"
     ]
    }
   ],
   "source": [
    "!ls assistant_data"
   ]
  },
  {
   "cell_type": "code",
   "execution_count": null,
   "metadata": {
    "colab": {
     "base_uri": "https://localhost:8080/",
     "height": 1000
    },
    "colab_type": "code",
    "id": "DOlrNl_9gRn9",
    "outputId": "b0711747-68ae-460a-9f47-a48e3b49dd89"
   },
   "outputs": [
    {
     "name": "stdout",
     "output_type": "stream",
     "text": [
      "[\n",
      "  [\n",
      "    {\n",
      "      \"speaker\": 1,\n",
      "      \"text\": \"Hi\"\n",
      "    },\n",
      "    {\n",
      "      \"speaker\": 2,\n",
      "      \"text\": \"Hello, whant credit??\",\n",
      "      \"act\": \"Hello\"\n",
      "    },\n",
      "    {\n",
      "      \"speaker\": 1,\n",
      "      \"text\": \"No\"\n",
      "    },\n",
      "    {\n",
      "      \"speaker\": 2,\n",
      "      \"text\": \"Good bye!\",\n",
      "      \"act\": \"good_bye\"\n",
      "    }\n",
      "  ],\n",
      "  [\n",
      "    {\n",
      "      \"speaker\": 1,\n",
      "      \"text\": \"Hello\"\n",
      "    },\n",
      "    {\n",
      "      \"speaker\": 2,\n",
      "      \"text\": \"Hello, whant credit??\",\n",
      "      \"act\": \"Hello\"\n",
      "    },\n",
      "    {\n",
      "      \"speaker\": 1,\n",
      "      \"text\": \"Yes\"\n",
      "    },\n",
      "    {\n",
      "      \"speaker\": 2,\n",
      "      \"text\": \"Consumer or Commercial?\",\n",
      "      \"act\": \"about_credit\"\n",
      "    },\n",
      "    {\n",
      "      \"speaker\": 1,\n",
      "      \"text\": \"Consumer\"\n",
      "    },\n",
      "    {\n",
      "      \"speaker\": 2,\n",
      "      \"text\": \"Something about it\",\n",
      "      \"act\": \"good_bye\"\n",
      "    }\n",
      "  ],\n",
      "  [\n",
      "    {\n",
      "      \"speaker\": 1,\n",
      "      \"text\": \"Good morning!\"\n",
      "    },\n",
      "    {\n",
      "      \"speaker\": 2,\n",
      "      \"text\": \"Hello, whant credit??\",\n",
      "      \"act\": \"Hello\"\n",
      "    },\n",
      "    {\n",
      "      \"speaker\": 1,\n",
      "      \"text\": \"Yes\"\n",
      "    },\n",
      "    {\n",
      "      \"speaker\": 2,\n",
      "      \"text\": \"Consumer or Commercial?\",\n",
      "      \"act\": \"about_credit\"\n",
      "    },\n",
      "    {\n",
      "      \"speaker\": 1,\n",
      "      \"text\": \"Commercial\"\n",
      "    },\n",
      "    {\n",
      "      \"speaker\": 2,\n",
      "      \"text\": \"Something about it\",\n",
      "      \"act\": \"bad_bye\"\n",
      "    }\n",
      "  ],\n",
      "  [\n",
      "    {\n",
      "      \"speaker\": 1,\n",
      "      \"text\": \"Good morning\"\n",
      "    },\n",
      "    {\n",
      "      \"speaker\": 2,\n",
      "      \"text\": \"Hello, whant credit??\",\n",
      "      \"act\": \"Hello\"\n",
      "    },\n",
      "    {\n",
      "      \"speaker\": 1,\n",
      "      \"text\": \"No\"\n",
      "    },\n",
      "    {\n",
      "      \"speaker\": 2,\n",
      "      \"text\": \"Maybe you want coins?\",\n",
      "      \"act\": \"suggest_money\"\n",
      "    },\n",
      "    {\n",
      "      \"speaker\": 1,\n",
      "      \"text\": \"No\"\n",
      "    },\n",
      "    {\n",
      "      \"speaker\": 2,\n",
      "      \"text\": \"Bye!\",\n",
      "      \"act\": \"bad_bye\"\n",
      "    }\n",
      "  ], \n",
      "  [\n",
      "    {\n",
      "      \"speaker\": 1,\n",
      "      \"text\": \"Good morning\"\n",
      "    },\n",
      "    {\n",
      "      \"speaker\": 2,\n",
      "      \"text\": \"Hello, whant credit??\",\n",
      "      \"act\": \"Hello\"\n",
      "    },\n",
      "    {\n",
      "      \"speaker\": 1,\n",
      "      \"text\": \"No\"\n",
      "    },\n",
      "    {\n",
      "      \"speaker\": 2,\n",
      "      \"text\": \"Maybe you want coins?\",\n",
      "      \"act\": \"suggest_money\"\n",
      "    },\n",
      "    {\n",
      "      \"speaker\": 1,\n",
      "      \"text\": \"Yes\"\n",
      "    },\n",
      "    {\n",
      "      \"speaker\": 2,\n",
      "      \"text\": \"Something about it\",\n",
      "      \"act\": \"bad_bye\"\n",
      "    }\n",
      "  ]\n",
      "]\n"
     ]
    }
   ],
   "source": [
    "!head -n 310 assistant_data/assistant-trn.json"
   ]
  },
  {
   "cell_type": "markdown",
   "metadata": {
    "colab_type": "text",
    "id": "HbgaikNS9JY0"
   },
   "source": [
    "Делаем итератор по данным\n"
   ]
  },
  {
   "cell_type": "code",
   "execution_count": null,
   "metadata": {
    "colab": {},
    "colab_type": "code",
    "id": "9NYptoABgRol",
    "scrolled": true
   },
   "outputs": [],
   "source": [
    "from deeppavlov.dataset_iterators.dialog_iterator import DialogDatasetIterator\n",
    "\n",
    "iterator = DialogDatasetIterator(data)"
   ]
  },
  {
   "cell_type": "markdown",
   "metadata": {
    "colab_type": "text",
    "id": "hYh26FBDgRpL"
   },
   "source": [
    "You can now iterate over batches of preprocessed dialogs:"
   ]
  },
  {
   "cell_type": "code",
   "execution_count": null,
   "metadata": {
    "colab": {
     "base_uri": "https://localhost:8080/",
     "height": 319
    },
    "colab_type": "code",
    "id": "oMLknr2mgRpk",
    "outputId": "e873a920-36fc-4eb8-f302-846ed3fdaf0d"
   },
   "outputs": [
    {
     "name": "stdout",
     "output_type": "stream",
     "text": [
      "User utterances:\n",
      "----------------\n",
      "\n",
      "[   {'prev_resp_act': None, 'text': 'Hello'},\n",
      "    {'prev_resp_act': 'Hello', 'text': 'Yes'},\n",
      "    {'prev_resp_act': 'about_credit', 'text': 'Consumer'}]\n",
      "\n",
      "System responses:\n",
      "-----------------\n",
      "\n",
      "[   {'act': 'Hello', 'text': 'Hello, whant credit??'},\n",
      "    {'act': 'about_credit', 'text': 'Consumer or Commercial?'},\n",
      "    {'act': 'good_bye', 'text': 'Something about it'}]\n",
      "\n",
      "-----------------\n",
      "5 dialog(s) in train.\n",
      "1 dialog(s) in valid.\n",
      "1 dialog(s) in test.\n"
     ]
    }
   ],
   "source": [
    "from pprint import pprint\n",
    "\n",
    "for dialog in iterator.gen_batches(batch_size=1, data_type='train'):\n",
    "    turns_x, turns_y = dialog\n",
    "    \n",
    "    print(\"User utterances:\\n----------------\\n\")\n",
    "    pprint(turns_x[0], indent=4)\n",
    "    print(\"\\nSystem responses:\\n-----------------\\n\")\n",
    "    pprint(turns_y[0], indent=4)\n",
    "    \n",
    "    break\n",
    "\n",
    "print(\"\\n-----------------\")    \n",
    "print(f\"{len(iterator.get_instances('train')[0])} dialog(s) in train.\")\n",
    "print(f\"{len(iterator.get_instances('valid')[0])} dialog(s) in valid.\")\n",
    "print(f\"{len(iterator.get_instances('test')[0])} dialog(s) in test.\")"
   ]
  },
  {
   "cell_type": "markdown",
   "metadata": {
    "colab_type": "text",
    "id": "PbSQDMHfgRqo"
   },
   "source": [
    "## 1. Учим бота"
   ]
  },
  {
   "cell_type": "markdown",
   "metadata": {
    "colab_type": "text",
    "id": "TgXWO32vgRqy"
   },
   "source": [
    "\n",
    "\n",
    "&nbsp;\n",
    "![gobot_simple_templates.png](https://github.com/deepmipt/DeepPavlov/blob/master/examples/img/gobot_simple_templates.png?raw=1)\n",
    "&nbsp;\n",
    "\n",
    "Шаблоны должны быть в формате `act` TAB `<template>` где `<act> `- это диалоговое действие, а `<template>` - соответствующий ответ.\n",
    "\n"
   ]
  },
  {
   "cell_type": "markdown",
   "metadata": {
    "colab_type": "text",
    "id": "c6Ra1TzW-WGU"
   },
   "source": [
    "Список действий для нашего бота"
   ]
  },
  {
   "cell_type": "code",
   "execution_count": null,
   "metadata": {
    "colab": {
     "base_uri": "https://localhost:8080/",
     "height": 134
    },
    "colab_type": "code",
    "id": "lqg_cbfegRrJ",
    "outputId": "0ba9bbf9-6baf-49ec-d765-957d650400e1"
   },
   "outputs": [
    {
     "name": "stdout",
     "output_type": "stream",
     "text": [
      "Hello\tMaybe want credit?\n",
      "suggest_credit\tMaybe want credit?\n",
      "suggest_money\tMaybe want money?\n",
      "suggest_cycling\tAsk once more\n",
      "good_bye\tBye!\n",
      "bad_bye\t\tGood lack!\n",
      "about_credit\tWhich credit?"
     ]
    }
   ],
   "source": [
    "!head -n 10 assistant_data/assistant-templates.txt"
   ]
  },
  {
   "cell_type": "markdown",
   "metadata": {
    "colab_type": "text",
    "id": "0EB74TkogRse"
   },
   "source": [
    "\n",
    "По сути, модуль диалога решает задачу классификации, где набор классов определяется в `assistant-templates.txt`. Таким образом, для обучения сети политики диалога вам понадобится ярлык действия для каждой очереди системы в обучающих диалогах. Наш набор данных помощника предоставляет `\" act \"` ключ словаря, который содержит действие, связанное с текущим ответом. Вот пример данных обучения для сети."
   ]
  },
  {
   "cell_type": "code",
   "execution_count": null,
   "metadata": {
    "colab": {
     "base_uri": "https://localhost:8080/",
     "height": 538
    },
    "colab_type": "code",
    "id": "o-Ny-LEYgRsq",
    "outputId": "f22a715f-3a82-4a84-80f4-568e396cc477"
   },
   "outputs": [
    {
     "name": "stdout",
     "output_type": "stream",
     "text": [
      "[\n",
      "  [\n",
      "    {\n",
      "      \"speaker\": 1,\n",
      "      \"text\": \"Hi\"\n",
      "    },\n",
      "    {\n",
      "      \"speaker\": 2,\n",
      "      \"text\": \"Hello, whant credit??\",\n",
      "      \"act\": \"Hello\"\n",
      "    },\n",
      "    {\n",
      "      \"speaker\": 1,\n",
      "      \"text\": \"No\"\n",
      "    },\n",
      "    {\n",
      "      \"speaker\": 2,\n",
      "      \"text\": \"Good bye!\",\n",
      "      \"act\": \"good_bye\"\n",
      "    }\n",
      "  ],\n",
      "  [\n",
      "    {\n",
      "      \"speaker\": 1,\n",
      "      \"text\": \"Hello\"\n",
      "    },\n",
      "    {\n",
      "      \"speaker\": 2,\n",
      "      \"text\": \"Hello, whant credit??\",\n",
      "      \"act\": \"Hello\"\n",
      "    },\n"
     ]
    }
   ],
   "source": [
    "!head -n 31 assistant_data/assistant-trn.json"
   ]
  },
  {
   "cell_type": "markdown",
   "metadata": {
    "colab_type": "text",
    "id": "o5P9piXwgRtl"
   },
   "source": [
    "Навыки в DeepPavlov определяются конфигурационными файлами. Итак, мы будем использовать минимальную конфигурацию бота DSTC2 (доступно больше конфигураций) и поменять разделы, отвечающие за:\n",
    "- embeddings,\n",
    "- шаблоны ответов,\n",
    "- пути загрузки и сохранения данных и моделей.\n",
    "\n",
    "Загрузим бот:"
   ]
  },
  {
   "cell_type": "code",
   "execution_count": null,
   "metadata": {
    "colab": {},
    "colab_type": "code",
    "id": "X59MSkmBgRt3"
   },
   "outputs": [],
   "source": [
    "from deeppavlov import configs\n",
    "from deeppavlov.core.common.file import read_json\n",
    "\n",
    "gobot_config = read_json(configs.go_bot.gobot_dstc2_minimal)"
   ]
  },
  {
   "cell_type": "markdown",
   "metadata": {
    "colab_type": "text",
    "id": "BVFgvwKFBKv0"
   },
   "source": [
    "Загружаем GLOVe embeddings (ВАЖНО! Эмббединги для англиского языка, т е бот обучается на английском словаре, нужно найти русские эмббединги):"
   ]
  },
  {
   "cell_type": "code",
   "execution_count": null,
   "metadata": {
    "colab": {
     "base_uri": "https://localhost:8080/",
     "height": 54
    },
    "colab_type": "code",
    "id": "XouQ1IBegRvR",
    "outputId": "ea1dca4c-8e0a-43b4-9543-0e0829891152"
   },
   "outputs": [
    {
     "name": "stderr",
     "output_type": "stream",
     "text": [
      "2020-07-30 10:07:27.114 INFO in 'deeppavlov.download'['download'] at line 132: Skipped http://files.deeppavlov.ai/embeddings/glove.6B.100d.txt download because of matching hashes\n"
     ]
    }
   ],
   "source": [
    "from deeppavlov.download import download_resource\n",
    "\n",
    "download_resource(url=\"http://files.deeppavlov.ai/embeddings/glove.6B.100d.txt\",\n",
    "                  dest_paths=['assistant_bot/'])"
   ]
  },
  {
   "cell_type": "markdown",
   "metadata": {
    "colab_type": "text",
    "id": "KFhdvuWUBz5T"
   },
   "source": [
    "Изменяем конфигурации\n"
   ]
  },
  {
   "cell_type": "code",
   "execution_count": null,
   "metadata": {
    "colab": {},
    "colab_type": "code",
    "id": "FElG1xfjgRvq"
   },
   "outputs": [],
   "source": [
    "gobot_config['chainer']['pipe'][-1]['embedder'] = {\n",
    "    \"class_name\": \"glove\",\n",
    "    \"load_path\": \"assistant_bot/glove.6B.100d.txt\"\n",
    "}"
   ]
  },
  {
   "cell_type": "code",
   "execution_count": null,
   "metadata": {
    "colab": {},
    "colab_type": "code",
    "id": "yAACg0IAgRuq"
   },
   "outputs": [],
   "source": [
    "gobot_config['chainer']['pipe'][-1]['nlg_manager']['template_path'] = 'assistant_data/assistant-templates.txt'\n",
    "gobot_config['chainer']['pipe'][-1]['nlg_manager']['api_call_action'] = None"
   ]
  },
  {
   "cell_type": "code",
   "execution_count": null,
   "metadata": {
    "colab": {},
    "colab_type": "code",
    "id": "pqhscSbhgRwK"
   },
   "outputs": [],
   "source": [
    "gobot_config['dataset_reader']['class_name'] = '__main__:AssistantDatasetReader'\n",
    "gobot_config['metadata']['variables']['DATA_PATH'] = 'assistant_data'\n",
    "\n",
    "gobot_config['metadata']['variables']['MODEL_PATH'] = 'assistant_bot'"
   ]
  },
  {
   "cell_type": "code",
   "execution_count": null,
   "metadata": {
    "colab": {
     "base_uri": "https://localhost:8080/",
     "height": 524
    },
    "colab_type": "code",
    "id": "ZRcmJBcvgR5D",
    "outputId": "25408175-8d20-43ec-edde-1dfb16320845"
   },
   "outputs": [
    {
     "name": "stderr",
     "output_type": "stream",
     "text": [
      "2020-07-30 10:07:27.161 INFO in 'deeppavlov.dataset_readers.dstc2_reader'['dstc2_reader'] at line 290: [loading dialogs from /content/assistant_data/assistant-trn.json]\n",
      "2020-07-30 10:07:27.164 INFO in 'deeppavlov.dataset_readers.dstc2_reader'['dstc2_reader'] at line 290: [loading dialogs from /content/assistant_data/assistant-val.json]\n",
      "2020-07-30 10:07:27.167 INFO in 'deeppavlov.dataset_readers.dstc2_reader'['dstc2_reader'] at line 290: [loading dialogs from /content/assistant_data/assistant-tst.json]\n",
      "2020-07-30 10:07:27.169 INFO in 'deeppavlov.dataset_readers.dstc2_reader'['dstc2_reader'] at line 282: There are 14 samples in train split.\n",
      "2020-07-30 10:07:27.172 INFO in 'deeppavlov.dataset_readers.dstc2_reader'['dstc2_reader'] at line 283: There are 3 samples in valid split.\n",
      "2020-07-30 10:07:27.173 INFO in 'deeppavlov.dataset_readers.dstc2_reader'['dstc2_reader'] at line 284: There are 2 samples in test split.\n",
      "2020-07-30 10:07:27.177 INFO in 'deeppavlov.core.data.simple_vocab'['simple_vocab'] at line 115: [loading vocabulary from /content/assistant_bot/word.dict]\n",
      "2020-07-30 10:07:27.179 INFO in 'deeppavlov.core.data.simple_vocab'['simple_vocab'] at line 101: [saving vocabulary to /content/assistant_bot/word.dict]\n",
      "2020-07-30 10:07:27.184 INFO in 'deeppavlov.models.embedders.glove_embedder'['glove_embedder'] at line 52: [loading GloVe embeddings from `/content/assistant_bot/glove.6B.100d.txt`]\n",
      "2020-07-30 10:07:51.775 INFO in 'deeppavlov.utils.connector.bot'['bot'] at line 108: Deleted conversation, key: 272482466\n",
      "2020-07-30 10:08:13.781 INFO in 'deeppavlov.models.go_bot.policy.policy_network'['policy_network'] at line 89: INSIDE PolicyNetwork init(). Initializing PolicyNetwork from scratch.\n",
      "2020-07-30 10:08:13.863 INFO in 'deeppavlov.core.trainers.nn_trainer'['nn_trainer'] at line 198: Initial best per_item_dialog_accuracy of 0.0\n"
     ]
    },
    {
     "name": "stdout",
     "output_type": "stream",
     "text": [
      "{\"valid\": {\"eval_examples_count\": 1, \"metrics\": {\"per_item_dialog_accuracy\": 0.0}, \"time_spent\": \"0:00:01\", \"epochs_done\": 0, \"batches_seen\": 0, \"train_examples_seen\": 0, \"impatience\": 0, \"patience_limit\": 10}}\n",
      "{\"train\": {\"eval_examples_count\": 5, \"metrics\": {\"per_item_dialog_accuracy\": 0.0}, \"time_spent\": \"0:00:01\", \"epochs_done\": 2, \"batches_seen\": 5, \"train_examples_seen\": 14, \"learning_rate\": 0.003, \"momentum\": 0.95, \"loss\": 1.5232914447784425}}\n",
      "{\"train\": {\"eval_examples_count\": 5, \"metrics\": {\"per_item_dialog_accuracy\": 0.0}, \"time_spent\": \"0:00:01\", \"epochs_done\": 4, \"batches_seen\": 10, \"train_examples_seen\": 25, \"learning_rate\": 0.003, \"momentum\": 0.95, \"loss\": 0.7491014242172241}}\n",
      "{\"train\": {\"eval_examples_count\": 5, \"metrics\": {\"per_item_dialog_accuracy\": 0.0}, \"time_spent\": \"0:00:01\", \"epochs_done\": 7, \"batches_seen\": 15, \"train_examples_seen\": 39, \"learning_rate\": 0.003, \"momentum\": 0.95, \"loss\": 0.26917733550071715}}\n"
     ]
    },
    {
     "name": "stderr",
     "output_type": "stream",
     "text": [
      "2020-07-30 10:08:14.678 INFO in 'deeppavlov.core.trainers.nn_trainer'['nn_trainer'] at line 211: Did not improve on the per_item_dialog_accuracy of 0.0\n"
     ]
    },
    {
     "name": "stdout",
     "output_type": "stream",
     "text": [
      "{\"train\": {\"eval_examples_count\": 5, \"metrics\": {\"per_item_dialog_accuracy\": 0.0}, \"time_spent\": \"0:00:01\", \"epochs_done\": 9, \"batches_seen\": 20, \"train_examples_seen\": 50, \"learning_rate\": 0.003, \"momentum\": 0.95, \"loss\": 0.08782302141189575}}\n",
      "{\"train\": {\"eval_examples_count\": 5, \"metrics\": {\"per_item_dialog_accuracy\": 0.0}, \"time_spent\": \"0:00:01\", \"epochs_done\": 12, \"batches_seen\": 25, \"train_examples_seen\": 64, \"learning_rate\": 0.003, \"momentum\": 0.95, \"loss\": 0.04324427917599678}}\n",
      "{\"train\": {\"eval_examples_count\": 5, \"metrics\": {\"per_item_dialog_accuracy\": 0.0}, \"time_spent\": \"0:00:01\", \"epochs_done\": 14, \"batches_seen\": 30, \"train_examples_seen\": 75, \"learning_rate\": 0.003, \"momentum\": 0.95, \"loss\": 0.03345228508114815}}\n",
      "{\"valid\": {\"eval_examples_count\": 1, \"metrics\": {\"per_item_dialog_accuracy\": 0.0}, \"time_spent\": \"0:00:01\", \"epochs_done\": 14, \"batches_seen\": 30, \"train_examples_seen\": 75, \"impatience\": 1, \"patience_limit\": 10}}\n"
     ]
    },
    {
     "name": "stderr",
     "output_type": "stream",
     "text": [
      "2020-07-30 10:08:14.797 INFO in 'deeppavlov.core.data.simple_vocab'['simple_vocab'] at line 115: [loading vocabulary from /content/assistant_bot/word.dict]\n",
      "2020-07-30 10:08:14.800 INFO in 'deeppavlov.models.embedders.glove_embedder'['glove_embedder'] at line 52: [loading GloVe embeddings from `/content/assistant_bot/glove.6B.100d.txt`]\n",
      "2020-07-30 10:09:00.789 INFO in 'deeppavlov.models.go_bot.policy.policy_network'['policy_network'] at line 89: INSIDE PolicyNetwork init(). Initializing PolicyNetwork from scratch.\n",
      "2020-07-30 10:09:00.952 INFO in 'deeppavlov.core.data.simple_vocab'['simple_vocab'] at line 115: [loading vocabulary from /content/assistant_bot/word.dict]\n",
      "2020-07-30 10:09:00.957 INFO in 'deeppavlov.models.embedders.glove_embedder'['glove_embedder'] at line 52: [loading GloVe embeddings from `/content/assistant_bot/glove.6B.100d.txt`]\n"
     ]
    },
    {
     "name": "stdout",
     "output_type": "stream",
     "text": [
      "{\"valid\": {\"eval_examples_count\": 1, \"metrics\": {\"per_item_dialog_accuracy\": 0.0}, \"time_spent\": \"0:00:01\"}}\n",
      "{\"test\": {\"eval_examples_count\": 1, \"metrics\": {\"per_item_dialog_accuracy\": 0.0}, \"time_spent\": \"0:00:01\"}}\n"
     ]
    },
    {
     "name": "stderr",
     "output_type": "stream",
     "text": [
      "2020-07-30 10:09:47.123 INFO in 'deeppavlov.models.go_bot.policy.policy_network'['policy_network'] at line 89: INSIDE PolicyNetwork init(). Initializing PolicyNetwork from scratch.\n"
     ]
    }
   ],
   "source": [
    "from deeppavlov import train_model\n",
    "\n",
    "gobot_config['train']['batch_size'] = 4 # set batch size\n",
    "gobot_config['train']['max_batches'] = 30 # maximum number of training batches\n",
    "gobot_config['train']['val_every_n_batches'] = 30 # evaluate on full 'valid' split every 30 epochs\n",
    "gobot_config['train']['log_every_n_batches'] = 5 # evaluate on full 'train' split every 5 batches\n",
    "\n",
    "train_model(gobot_config);"
   ]
  },
  {
   "cell_type": "markdown",
   "metadata": {
    "colab_type": "text",
    "id": "BMYLonE_gR_Q"
   },
   "source": [
    "\n",
    "\n",
    "Можно поменять конфиг файл [config doc page](http://docs.deeppavlov.ai/en/master/intro/configuration.html) "
   ]
  },
  {
   "cell_type": "markdown",
   "metadata": {
    "colab_type": "text",
    "id": "8CNlZyfSgSAi"
   },
   "source": [
    "# 2. Посмотрим как работает бот и запустим его в телеграмме \n",
    "Библиотека предоставляет возможности так же запускать на других платформах"
   ]
  },
  {
   "cell_type": "code",
   "execution_count": null,
   "metadata": {
    "colab": {
     "base_uri": "https://localhost:8080/",
     "height": 87
    },
    "colab_type": "code",
    "id": "kaUTLCl_gSAm",
    "outputId": "f6d47a13-f08c-4f5b-d4c8-df9cf39a2a20"
   },
   "outputs": [
    {
     "name": "stderr",
     "output_type": "stream",
     "text": [
      "2020-07-30 10:09:47.205 INFO in 'deeppavlov.core.data.simple_vocab'['simple_vocab'] at line 115: [loading vocabulary from /content/assistant_bot/word.dict]\n",
      "2020-07-30 10:09:47.208 INFO in 'deeppavlov.models.embedders.glove_embedder'['glove_embedder'] at line 52: [loading GloVe embeddings from `/content/assistant_bot/glove.6B.100d.txt`]\n",
      "2020-07-30 10:10:33.162 INFO in 'deeppavlov.models.go_bot.policy.policy_network'['policy_network'] at line 89: INSIDE PolicyNetwork init(). Initializing PolicyNetwork from scratch.\n"
     ]
    }
   ],
   "source": [
    "from deeppavlov import build_model\n",
    "\n",
    "bot = build_model(gobot_config)"
   ]
  },
  {
   "cell_type": "code",
   "execution_count": null,
   "metadata": {
    "colab": {
     "base_uri": "https://localhost:8080/",
     "height": 34
    },
    "colab_type": "code",
    "id": "1UTvHL01gSA5",
    "outputId": "da02bce6-be17-4894-a04b-551d735c6f5a"
   },
   "outputs": [
    {
     "data": {
      "text/plain": [
       "[['Maybe want money?']]"
      ]
     },
     "execution_count": 142,
     "metadata": {
      "tags": []
     },
     "output_type": "execute_result"
    }
   ],
   "source": [
    "bot([[{\"text\": \"Привет\"}]])"
   ]
  },
  {
   "cell_type": "code",
   "execution_count": null,
   "metadata": {
    "colab": {
     "base_uri": "https://localhost:8080/",
     "height": 34
    },
    "colab_type": "code",
    "id": "YY_BdF-egSBT",
    "outputId": "413d5a5f-8e92-4db8-f999-0b43a92d95c3"
   },
   "outputs": [
    {
     "data": {
      "text/plain": [
       "[['Maybe want credit?']]"
      ]
     },
     "execution_count": 141,
     "metadata": {
      "tags": []
     },
     "output_type": "execute_result"
    }
   ],
   "source": [
    "bot([[{\"text\": \"как дела\"}]])"
   ]
  },
  {
   "cell_type": "code",
   "execution_count": null,
   "metadata": {
    "colab": {
     "base_uri": "https://localhost:8080/",
     "height": 34
    },
    "colab_type": "code",
    "id": "-Xf1gCdmgSBr",
    "outputId": "e8486584-d50a-44d9-9b8b-9d62fc723927"
   },
   "outputs": [
    {
     "data": {
      "text/plain": [
       "[['Bye!']]"
      ]
     },
     "execution_count": 140,
     "metadata": {
      "tags": []
     },
     "output_type": "execute_result"
    }
   ],
   "source": [
    "bot([[{\"text\": \"Нет\"}]])"
   ]
  },
  {
   "cell_type": "code",
   "execution_count": null,
   "metadata": {
    "colab": {},
    "colab_type": "code",
    "id": "Ad_GDanAgSCi"
   },
   "outputs": [],
   "source": [
    "bot.reset()"
   ]
  },
  {
   "cell_type": "code",
   "execution_count": null,
   "metadata": {
    "colab": {
     "base_uri": "https://localhost:8080/",
     "height": 34
    },
    "colab_type": "code",
    "id": "r5312Df1gSC0",
    "outputId": "37fb52a0-096f-4941-bce4-cf6f1b1a8207"
   },
   "outputs": [
    {
     "data": {
      "text/plain": [
       "[['Good lack!']]"
      ]
     },
     "execution_count": 132,
     "metadata": {
      "tags": []
     },
     "output_type": "execute_result"
    }
   ],
   "source": [
    "bot([[{\"text\": \"Hello\"}]])"
   ]
  },
  {
   "cell_type": "code",
   "execution_count": null,
   "metadata": {
    "colab": {
     "base_uri": "https://localhost:8080/",
     "height": 34
    },
    "colab_type": "code",
    "id": "jXQw_11jgSDM",
    "outputId": "f6f6bf9e-3b50-41f2-e8a1-8f28a88be516"
   },
   "outputs": [
    {
     "data": {
      "text/plain": [
       "[['Maybe want credit?']]"
      ]
     },
     "execution_count": 133,
     "metadata": {
      "tags": []
     },
     "output_type": "execute_result"
    }
   ],
   "source": [
    "bot([[{\"text\": \"No\"}]])"
   ]
  },
  {
   "cell_type": "code",
   "execution_count": null,
   "metadata": {
    "colab": {
     "base_uri": "https://localhost:8080/",
     "height": 34
    },
    "colab_type": "code",
    "id": "-SKJicTCgSDe",
    "outputId": "f36e1020-0a43-454f-e020-bd438a97aa4d"
   },
   "outputs": [
    {
     "data": {
      "text/plain": [
       "[['Maybe want money?']]"
      ]
     },
     "execution_count": 134,
     "metadata": {
      "tags": []
     },
     "output_type": "execute_result"
    }
   ],
   "source": [
    "bot([[{\"text\": \"Consumer\"}]])"
   ]
  },
  {
   "cell_type": "markdown",
   "metadata": {
    "colab_type": "text",
    "id": "cfi2l8NuwY95"
   },
   "source": [
    "Посмотрим как это выглядит в телеграмме"
   ]
  },
  {
   "cell_type": "code",
   "execution_count": null,
   "metadata": {
    "colab": {
     "base_uri": "https://localhost:8080/",
     "height": 104
    },
    "colab_type": "code",
    "id": "sQck_KSDtzVS",
    "outputId": "149f7b85-83a6-48db-f15a-6a71b22654ee"
   },
   "outputs": [
    {
     "name": "stderr",
     "output_type": "stream",
     "text": [
      "2020-07-30 10:10:33.450 INFO in 'deeppavlov.core.data.simple_vocab'['simple_vocab'] at line 115: [loading vocabulary from /content/assistant_bot/word.dict]\n",
      "2020-07-30 10:10:33.454 INFO in 'deeppavlov.models.embedders.glove_embedder'['glove_embedder'] at line 52: [loading GloVe embeddings from `/content/assistant_bot/glove.6B.100d.txt`]\n",
      "2020-07-30 10:11:20.54 INFO in 'deeppavlov.models.go_bot.policy.policy_network'['policy_network'] at line 89: INSIDE PolicyNetwork init(). Initializing PolicyNetwork from scratch.\n",
      "2020-07-30 10:11:20.55 INFO in 'deeppavlov.utils.connector.bot'['bot'] at line 72: Bot initiated\n"
     ]
    }
   ],
   "source": [
    "from deeppavlov.utils.telegram import interact_model_by_telegram\n",
    "\n",
    "interact_model_by_telegram(model_config=gobot_config, token='1153548935:AAFIZkbBaYKjzlpum6wVM6oTHviL4VYlPY8')"
   ]
  }
 ],
 "metadata": {
  "accelerator": "GPU",
  "colab": {
   "include_colab_link": true,
   "name": "EnSimpleBotWithDP.ipynb",
   "provenance": [],
   "toc_visible": true
  },
  "kernelspec": {
   "display_name": "Python 3",
   "language": "python",
   "name": "python3"
  },
  "language_info": {
   "codemirror_mode": {
    "name": "ipython",
    "version": 3
   },
   "file_extension": ".py",
   "mimetype": "text/x-python",
   "name": "python",
   "nbconvert_exporter": "python",
   "pygments_lexer": "ipython3",
   "version": "3.7.7"
  }
 },
 "nbformat": 4,
 "nbformat_minor": 1
}
